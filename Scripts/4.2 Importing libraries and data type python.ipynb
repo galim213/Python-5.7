{
 "cells": [
  {
   "cell_type": "markdown",
   "id": "1332a623",
   "metadata": {},
   "source": [
    "# 0.1 impoting library"
   ]
  },
  {
   "cell_type": "code",
   "execution_count": 2,
   "id": "e0d1ab9d",
   "metadata": {},
   "outputs": [],
   "source": [
    "#importing library\n",
    "import pandas as pd\n",
    "import numpy as np\n",
    "import os "
   ]
  },
  {
   "cell_type": "markdown",
   "id": "80d94c90",
   "metadata": {},
   "source": [
    "# 0.2 Data types 3 different ways of reaching a result of 100"
   ]
  },
  {
   "cell_type": "code",
   "execution_count": 3,
   "id": "026bce5e",
   "metadata": {},
   "outputs": [],
   "source": [
    "x=70"
   ]
  },
  {
   "cell_type": "code",
   "execution_count": 5,
   "id": "f9efe811",
   "metadata": {},
   "outputs": [],
   "source": [
    "y=5"
   ]
  },
  {
   "cell_type": "code",
   "execution_count": 6,
   "id": "5cb11fa7",
   "metadata": {},
   "outputs": [],
   "source": [
    "z=25"
   ]
  },
  {
   "cell_type": "code",
   "execution_count": 7,
   "id": "c96b7d81",
   "metadata": {},
   "outputs": [
    {
     "data": {
      "text/plain": [
       "100"
      ]
     },
     "execution_count": 7,
     "metadata": {},
     "output_type": "execute_result"
    }
   ],
   "source": [
    "x+y+z"
   ]
  },
  {
   "cell_type": "code",
   "execution_count": 8,
   "id": "1fd8bfef",
   "metadata": {},
   "outputs": [
    {
     "data": {
      "text/plain": [
       "100"
      ]
     },
     "execution_count": 8,
     "metadata": {},
     "output_type": "execute_result"
    }
   ],
   "source": [
    "(5*y)+z+(x-20)"
   ]
  },
  {
   "cell_type": "code",
   "execution_count": 13,
   "id": "e6e02d17",
   "metadata": {},
   "outputs": [
    {
     "data": {
      "text/plain": [
       "100.0"
      ]
     },
     "execution_count": 13,
     "metadata": {},
     "output_type": "execute_result"
    }
   ],
   "source": [
    "(x/2)+y+z+35"
   ]
  },
  {
   "cell_type": "markdown",
   "id": "821a5d7b",
   "metadata": {},
   "source": [
    "# 0.2 Code 2 floating-point variables and divide them by each other."
   ]
  },
  {
   "cell_type": "code",
   "execution_count": 14,
   "id": "085d08c7",
   "metadata": {},
   "outputs": [],
   "source": [
    " h=3.25"
   ]
  },
  {
   "cell_type": "code",
   "execution_count": 15,
   "id": "e23e1400",
   "metadata": {},
   "outputs": [],
   "source": [
    "g=1.25"
   ]
  },
  {
   "cell_type": "code",
   "execution_count": 16,
   "id": "63c10812",
   "metadata": {},
   "outputs": [
    {
     "data": {
      "text/plain": [
       "2.6"
      ]
     },
     "execution_count": 16,
     "metadata": {},
     "output_type": "execute_result"
    }
   ],
   "source": [
    "h/g"
   ]
  },
  {
   "cell_type": "markdown",
   "id": "5f4b4974",
   "metadata": {},
   "source": [
    "# 0.2 Construct a short word made of separate strings"
   ]
  },
  {
   "cell_type": "code",
   "execution_count": 49,
   "id": "b03bca1b",
   "metadata": {},
   "outputs": [],
   "source": [
    "a= \"I \""
   ]
  },
  {
   "cell_type": "code",
   "execution_count": 44,
   "id": "03e5f5a6",
   "metadata": {},
   "outputs": [],
   "source": [
    "b= \"want \""
   ]
  },
  {
   "cell_type": "code",
   "execution_count": 43,
   "id": "7290ace8",
   "metadata": {},
   "outputs": [],
   "source": [
    "c= \"a sunny \""
   ]
  },
  {
   "cell_type": "code",
   "execution_count": 50,
   "id": "3dc2773a",
   "metadata": {},
   "outputs": [],
   "source": [
    "d= \" day! \""
   ]
  },
  {
   "cell_type": "code",
   "execution_count": 51,
   "id": "19375dcf",
   "metadata": {},
   "outputs": [
    {
     "data": {
      "text/plain": [
       "'I want a sunny  day! '"
      ]
     },
     "execution_count": 51,
     "metadata": {},
     "output_type": "execute_result"
    }
   ],
   "source": [
    "a+b+c+d"
   ]
  },
  {
   "cell_type": "code",
   "execution_count": 52,
   "id": "7c9e3a0c",
   "metadata": {},
   "outputs": [],
   "source": [
    "e=\"Before\""
   ]
  },
  {
   "cell_type": "code",
   "execution_count": 53,
   "id": "a11837fa",
   "metadata": {},
   "outputs": [],
   "source": [
    "f=\" may!\""
   ]
  },
  {
   "cell_type": "code",
   "execution_count": 54,
   "id": "c3200131",
   "metadata": {},
   "outputs": [
    {
     "data": {
      "text/plain": [
       "'I want a sunny  day! Before may!'"
      ]
     },
     "execution_count": 54,
     "metadata": {},
     "output_type": "execute_result"
    }
   ],
   "source": [
    "a+b+c+d+(e+f)"
   ]
  },
  {
   "cell_type": "code",
   "execution_count": 55,
   "id": "4f67e749",
   "metadata": {},
   "outputs": [
    {
     "data": {
      "text/plain": [
       "'Before may!I want a sunny  day! '"
      ]
     },
     "execution_count": 55,
     "metadata": {},
     "output_type": "execute_result"
    }
   ],
   "source": [
    "e+f+a+b+c+d "
   ]
  },
  {
   "cell_type": "code",
   "execution_count": null,
   "id": "b5d41890",
   "metadata": {},
   "outputs": [],
   "source": []
  }
 ],
 "metadata": {
  "kernelspec": {
   "display_name": "Python 3 (ipykernel)",
   "language": "python",
   "name": "python3"
  },
  "language_info": {
   "codemirror_mode": {
    "name": "ipython",
    "version": 3
   },
   "file_extension": ".py",
   "mimetype": "text/x-python",
   "name": "python",
   "nbconvert_exporter": "python",
   "pygments_lexer": "ipython3",
   "version": "3.10.9"
  }
 },
 "nbformat": 4,
 "nbformat_minor": 5
}
